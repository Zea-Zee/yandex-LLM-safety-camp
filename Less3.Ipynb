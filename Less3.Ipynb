{
 "cells": [
  {
   "cell_type": "markdown",
   "id": "a88d04eb",
   "metadata": {},
   "source": [
    "# Практические работы\n",
    "## 3. семантический поиск по документам из Object Storage ##\n",
    "### Задача: \"Разработать семантический поиск с механизмом контроля возвращаемых результатов\" ###\n",
    "#### Этап 1: Подготовка векторной базы данных ####\n",
    "Цель: Преобразовать доверенные документы из Object Storage в структуру, пригодную для семантического поиска — векторное хранилище.\n",
    "Что происходит в проекте:\n",
    "1. ##### Загрузка документов из Yandex Object Storage: #####"
   ]
  },
  {
   "cell_type": "code",
   "execution_count": null,
   "id": "eb8a024a",
   "metadata": {
    "vscode": {
     "languageId": "plaintext"
    }
   },
   "outputs": [],
   "source": [
    "s3 = boto3.client(\n",
    "    's3',\n",
    "    endpoint_url='https://storage.yandexcloud.net',\n",
    "    aws_access_key_id=os.getenv('S3_ACCESS_KEY'),\n",
    "    aws_secret_access_key=os.getenv('S3_SECRET_KEY')\n",
    ")"
   ]
  },
  {
   "cell_type": "markdown",
   "id": "c82a3d89",
   "metadata": {},
   "source": [
    "    Скачиваются все файлы из бакета rag-docs-trusted и папки docs/.\n",
    "2. ##### Загрузка и парсинг документов #####\n",
    "    Для каждого файла применяется соответствующий загрузчик:"
   ]
  },
  {
   "cell_type": "code",
   "execution_count": null,
   "id": "8226011e",
   "metadata": {
    "vscode": {
     "languageId": "plaintext"
    }
   },
   "outputs": [],
   "source": [
    "if path.endswith(\".pdf\"):\n",
    "    loader = PyPDFLoader(path)\n",
    "elif path.endswith(\".txt\"):\n",
    "    loader = TextLoader(path, encoding=\"utf-8\")\n",
    "loaded = loader.load()"
   ]
  },
  {
   "cell_type": "markdown",
   "id": "bb544a78",
   "metadata": {},
   "source": [
    "    Например, инструкция.pdf → извлекается текст → создаётся список объектов Document.\n",
    "3. #### Фильтрация и валидация ####\n",
    "    Удаляются документы с None или пустым контентом:"
   ]
  },
  {
   "cell_type": "code",
   "execution_count": null,
   "id": "7ddd8fe5",
   "metadata": {
    "vscode": {
     "languageId": "plaintext"
    }
   },
   "outputs": [],
   "source": [
    "valid_docs = [\n",
    "    doc for doc in loaded\n",
    "    if hasattr(doc, 'page_content') and\n",
    "       isinstance(doc.page_content, str) and\n",
    "       doc.page_content.strip()\n",
    "]"
   ]
  },
  {
   "cell_type": "markdown",
   "id": "89476c90",
   "metadata": {},
   "source": [
    "    Защита от битых или пустых файлов.\n",
    "4. ##### Разбиение на чанки #####\n",
    "    Используется RecursiveCharacterTextSplitter:"
   ]
  },
  {
   "cell_type": "code",
   "execution_count": null,
   "id": "357d3bc3",
   "metadata": {
    "vscode": {
     "languageId": "plaintext"
    }
   },
   "outputs": [],
   "source": [
    "text_splitter = RecursiveCharacterTextSplitter(\n",
    "    chunk_size=500,\n",
    "    chunk_overlap=50,\n",
    "    separators=[\"\\n\\n\", \"\\n\", \" \", \"\"]\n",
    ")\n",
    "chunks = text_splitter.split_documents(docs)"
   ]
  },
  {
   "cell_type": "markdown",
   "id": "57f0101e",
   "metadata": {},
   "source": [
    "4. Создание FAISS-индекса"
   ]
  },
  {
   "cell_type": "code",
   "execution_count": null,
   "id": "69330484",
   "metadata": {
    "vscode": {
     "languageId": "plaintext"
    }
   },
   "outputs": [],
   "source": [
    "embeddings = HuggingFaceEmbeddings(model_name=\"sentence-transformers/all-MiniLM-L6-v2\")\n",
    "vectorstore = FAISS.from_documents(chunks, embeddings)\n",
    "vectorstore.save_local(\"./vectorstore_faiss\")"
   ]
  },
  {
   "cell_type": "markdown",
   "id": "3b4dcfdc",
   "metadata": {},
   "source": [
    "    Каждый чанк преобразуется в вектор → сохраняется локально для быстрого поиска.\n",
    "#### Этап 2: Реализация и настройка поискового движка ####\n",
    "Цель: На основе пользовательского запроса найти наиболее релевантные фрагменты из векторной базы.\n",
    "1. Загрузка индекса при запросе"
   ]
  },
  {
   "cell_type": "code",
   "execution_count": null,
   "id": "a154f1dd",
   "metadata": {
    "vscode": {
     "languageId": "plaintext"
    }
   },
   "outputs": [],
   "source": [
    "vectorstore = FAISS.load_local(\"./vectorstore_faiss\", embeddings, allow_dangerous_deserialization=True)"
   ]
  },
  {
   "cell_type": "markdown",
   "id": "5aa31901",
   "metadata": {},
   "source": [
    "    При первом запросе — если индекса нет, он создаётся из Object Storage.\n",
    "2. Настройка ретривера"
   ]
  },
  {
   "cell_type": "code",
   "execution_count": null,
   "id": "7cb8ff05",
   "metadata": {
    "vscode": {
     "languageId": "plaintext"
    }
   },
   "outputs": [],
   "source": [
    "retriever = vectorstore.as_retriever(search_kwargs={\"k\": 3})"
   ]
  },
  {
   "cell_type": "markdown",
   "id": "9b33890d",
   "metadata": {},
   "source": [
    "    Возвращает топ-3 самых релевантных чанка по косинусному сходству.\n",
    "3. Выполнение поиска"
   ]
  },
  {
   "cell_type": "code",
   "execution_count": null,
   "id": "395ba500",
   "metadata": {
    "vscode": {
     "languageId": "plaintext"
    }
   },
   "outputs": [],
   "source": [
    "retrieved_docs = retriever.invoke(current_user_input)"
   ]
  },
  {
   "cell_type": "markdown",
   "id": "03ad0ad6",
   "metadata": {},
   "source": [
    "    Например, запрос: “Кто может получить доступ к системе?”\n",
    "    Система находит чанк: “Доступ к системе разрешён только авторизованным пользователям.”\n",
    "4. Формирование контекста"
   ]
  },
  {
   "cell_type": "code",
   "execution_count": null,
   "id": "108d4c52",
   "metadata": {
    "vscode": {
     "languageId": "plaintext"
    }
   },
   "outputs": [],
   "source": [
    "context_chunks = \"\\n\\n\".join([doc.page_content for doc in retrieved_docs])"
   ]
  },
  {
   "cell_type": "markdown",
   "id": "0762796e",
   "metadata": {},
   "source": [
    "    Объединяет найденные фрагменты в одну строку для подстановки в промпт.\n",
    "5. Логирование и защита"
   ]
  },
  {
   "cell_type": "code",
   "execution_count": null,
   "id": "900c39f7",
   "metadata": {
    "vscode": {
     "languageId": "plaintext"
    }
   },
   "outputs": [],
   "source": [
    "if valid_contents:\n",
    "    context_chunks = \"\\n\\n\".join(valid_contents)\n",
    "    print(f\"RAG: найдено {len(valid_contents)} релевантных фрагментов.\")"
   ]
  },
  {
   "cell_type": "markdown",
   "id": "c531aaf1",
   "metadata": {},
   "source": [
    "    В терминале видно: сколько фрагментов найдено, ошибки не приводят к падению.\n",
    "\n",
    "##### Пример поиска: #####\n",
    "    Запрос пользователя: “Какие требования к доступу?” <br>\n",
    "    Система находит: “Доступ к системе разрешён только авторизованным пользователям.” \n",
    "##### Лог в терминале: #####\n",
    "    RAG: найдено 1 релевантных фрагментов.\n",
    "Поиск семантический — не требуется точное совпадение слов.\n",
    "#### Этап 3: Интеграция с LLM и валидация ответов ####\n",
    "Цель: Отправить запрос + контекст в YandexGPT и получить точный, основанный на документах ответ.\n",
    "1. ##### Формирование промпта в формате YandexGPT #####\n",
    "    YandexGPT использует формат инструкций и альтернативных ролей — role: system, role: user."
   ]
  },
  {
   "cell_type": "code",
   "execution_count": null,
   "id": "4d8e462c",
   "metadata": {
    "vscode": {
     "languageId": "plaintext"
    }
   },
   "outputs": [],
   "source": [
    "messages = [\n",
    "    {\n",
    "        \"role\": \"system\",\n",
    "        \"text\": (\n",
    "            \"Ты — корпоративный ассистент. Отвечай строго по документам. \"\n",
    "            \"Если информации нет — скажи 'В документах не указано'.\\n\\n\"\n",
    "            f\"Контекст из документов:\\n{context_text}\"\n",
    "        )\n",
    "    },\n",
    "    {\n",
    "        \"role\": \"user\",\n",
    "        \"text\": user_query\n",
    "    }\n",
    "]"
   ]
  },
  {
   "cell_type": "markdown",
   "id": "9afc0751",
   "metadata": {},
   "source": [
    "Пример промпта:"
   ]
  },
  {
   "cell_type": "code",
   "execution_count": null,
   "id": "5b235967",
   "metadata": {
    "vscode": {
     "languageId": "plaintext"
    }
   },
   "outputs": [],
   "source": [
    "[\n",
    "  {\n",
    "    \"role\": \"system\",\n",
    "    \"text\": \"Ты — корпоративный ассистент... Контекст: Доступ к системе предоставляется только сотрудникам с действующей электронной подписью.\"\n",
    "  },\n",
    "  {\n",
    "    \"role\": \"user\",\n",
    "    \"text\": \"Как получить доступ к системе?\"\n",
    "  }\n",
    "]"
   ]
  },
  {
   "cell_type": "markdown",
   "id": "e371750c",
   "metadata": {},
   "source": [
    "2. Отправка в YandexGPT<br>\n",
    "    Код вызова API:"
   ]
  },
  {
   "cell_type": "code",
   "execution_count": null,
   "id": "1472747e",
   "metadata": {
    "vscode": {
     "languageId": "plaintext"
    }
   },
   "outputs": [],
   "source": [
    "def ask_yandexgpt(messages: list, api_key: str, folder_id: str) -> str:\n",
    "    url = \"https://llm.api.cloud.yandex.net/foundationModels/v1/completion\"\n",
    "    headers = {\n",
    "        \"Authorization\": f\"Api-Key {api_key}\",\n",
    "        \"Content-Type\": \"application/json\"\n",
    "    }\n",
    "    payload = {\n",
    "        \"modelUri\": f\"gpt://{folder_id}/yandexgpt/latest\",\n",
    "        \"completionOptions\": {\n",
    "            \"stream\": False,\n",
    "            \"temperature\": 0.3,\n",
    "            \"maxTokens\": 1000\n",
    "        },\n",
    "        \"messages\": messages\n",
    "    }\n",
    "\n",
    "    response = requests.post(url, headers=headers, json=payload)\n",
    "    if response.status_code == 200:\n",
    "        result = response.json()\n",
    "        return result[\"result\"][\"alternatives\"][0][\"message\"][\"text\"]\n",
    "    else:\n",
    "        return f\"Ошибка YandexGPT: {response.text}\""
   ]
  },
  {
   "cell_type": "markdown",
   "id": "2c4ae88d",
   "metadata": {},
   "source": [
    "3. ##### Пример ответа от YandexGPT #####\n",
    "Запрос:\n",
    "“Как получить доступ к системе?”<br>\n",
    "Контекст:\n",
    "“Доступ к системе предоставляется только сотрудникам с действующей электронной подписью.” <br>\n",
    "Ответ модели: “Для получения доступа к системе вам необходимо быть сотрудником компании и иметь действующую электронную подпись.” <br>\n",
    "\n",
    "Ответ основан на документе, без галлюцинаций.\n",
    "\n",
    "4. ##### Валидация и постобработка #####"
   ]
  },
  {
   "cell_type": "code",
   "execution_count": null,
   "id": "ff502c16",
   "metadata": {
    "vscode": {
     "languageId": "plaintext"
    }
   },
   "outputs": [],
   "source": [
    "if not answer.strip():\n",
    "    answer = \"Не удалось сгенерировать ответ.\"\n",
    "# Можно добавить проверку на наличие ключевых слов из контекста"
   ]
  },
  {
   "cell_type": "markdown",
   "id": "a8eea339",
   "metadata": {},
   "source": [
    "5. ##### Безопасность #####\n",
    "    1. Контекст подставляется в system — пользователь не может его переопределить.\n",
    "    1. Запрос модерируется ДО вызова RAG (если оставили эту фичу).\n",
    "    1. Данные только из Object Storage — доверенный источник.\n",
    "    1. API-ключ YandexGPT хранится в .env — не в коде."
   ]
  }
 ],
 "metadata": {
  "language_info": {
   "name": "python"
  }
 },
 "nbformat": 4,
 "nbformat_minor": 5
}
